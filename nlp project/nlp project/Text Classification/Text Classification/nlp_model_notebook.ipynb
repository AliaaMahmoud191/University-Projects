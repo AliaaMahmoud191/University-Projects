{
  "nbformat": 4,
  "nbformat_minor": 0,
  "metadata": {
    "colab": {
      "provenance": [],
      "gpuType": "T4"
    },
    "kernelspec": {
      "name": "python3",
      "display_name": "Python 3"
    },
    "language_info": {
      "name": "python"
    },
    "accelerator": "GPU",
    "gpuClass": "standard"
  },
  "cells": [
    {
      "cell_type": "markdown",
      "source": [
        "# **Importing Packages**"
      ],
      "metadata": {
        "id": "3iBrMuV_iRXj"
      }
    },
    {
      "cell_type": "code",
      "source": [
        "import pandas as pd\n",
        "import numpy as np\n",
        "import nltk\n",
        "import re\n",
        "from nltk.corpus import stopwords\n",
        "from nltk.stem.porter import PorterStemmer\n",
        "from sklearn.feature_extraction.text import CountVectorizer\n",
        "from sklearn.linear_model import LogisticRegression\n",
        "from sklearn.metrics import accuracy_score\n",
        "from sklearn.model_selection import train_test_split\n",
        "from sklearn.metrics import accuracy_score, precision_score, recall_score, f1_score\n",
        "!pip install langdetect\n",
        "from langdetect import detect\n",
        "import pickle\n",
        "nltk.download(\"stopwords\")"
      ],
      "metadata": {
        "colab": {
          "base_uri": "https://localhost:8080/"
        },
        "id": "J5mO5xfUiRC9",
        "outputId": "12da2021-9a01-4e32-f46a-85ca327fbfea"
      },
      "execution_count": 18,
      "outputs": [
        {
          "output_type": "stream",
          "name": "stdout",
          "text": [
            "Looking in indexes: https://pypi.org/simple, https://us-python.pkg.dev/colab-wheels/public/simple/\n",
            "Requirement already satisfied: langdetect in /usr/local/lib/python3.10/dist-packages (1.0.9)\n",
            "Requirement already satisfied: six in /usr/local/lib/python3.10/dist-packages (from langdetect) (1.16.0)\n"
          ]
        },
        {
          "output_type": "stream",
          "name": "stderr",
          "text": [
            "[nltk_data] Downloading package stopwords to /root/nltk_data...\n",
            "[nltk_data]   Package stopwords is already up-to-date!\n"
          ]
        },
        {
          "output_type": "execute_result",
          "data": {
            "text/plain": [
              "True"
            ]
          },
          "metadata": {},
          "execution_count": 18
        }
      ]
    },
    {
      "cell_type": "markdown",
      "source": [
        "# **Loading the dataset**"
      ],
      "metadata": {
        "id": "3bYnSwIWidBN"
      }
    },
    {
      "cell_type": "code",
      "source": [
        "#BBC News Classification\n",
        "AG = pd.read_csv(\"ag.csv\")"
      ],
      "metadata": {
        "id": "zLSGuE1WiifD"
      },
      "execution_count": 19,
      "outputs": []
    },
    {
      "cell_type": "code",
      "source": [
        "# Assuming your dataset is stored in a DataFrame called 'df'\n",
        "AG_df = pd.DataFrame(AG, columns=['Class Index', 'Title', 'Description'])\n",
        "\n",
        "# Change column names\n",
        "AG_df = AG_df.rename(columns={'Class Index': 'category', 'Description': 'text'})\n",
        "\n",
        "# Drop 'Title' column\n",
        "AG_df = AG_df.drop('Title', axis=1)\n"
      ],
      "metadata": {
        "id": "lJrOEWfSaNsF"
      },
      "execution_count": 20,
      "outputs": []
    },
    {
      "cell_type": "markdown",
      "source": [
        "# **Exploring the dataset**"
      ],
      "metadata": {
        "id": "YfIIt_Zzj_tQ"
      }
    },
    {
      "cell_type": "code",
      "source": [
        "print(list(AG_df.columns))"
      ],
      "metadata": {
        "colab": {
          "base_uri": "https://localhost:8080/"
        },
        "id": "Ks6S-mylbeE9",
        "outputId": "53b97b2e-1f24-44a0-dcd0-af9dea2a8533"
      },
      "execution_count": 5,
      "outputs": [
        {
          "output_type": "stream",
          "name": "stdout",
          "text": [
            "['category', 'text']\n"
          ]
        }
      ]
    },
    {
      "cell_type": "code",
      "source": [
        "print(AG.info())"
      ],
      "metadata": {
        "colab": {
          "base_uri": "https://localhost:8080/"
        },
        "id": "uHR-OC_ybeOM",
        "outputId": "0abc5095-6776-40ab-e290-c0d7397055e1"
      },
      "execution_count": null,
      "outputs": [
        {
          "output_type": "stream",
          "name": "stdout",
          "text": [
            "<class 'pandas.core.frame.DataFrame'>\n",
            "RangeIndex: 120000 entries, 0 to 119999\n",
            "Data columns (total 3 columns):\n",
            " #   Column       Non-Null Count   Dtype \n",
            "---  ------       --------------   ----- \n",
            " 0   Class Index  120000 non-null  int64 \n",
            " 1   Title        120000 non-null  object\n",
            " 2   Description  120000 non-null  object\n",
            "dtypes: int64(1), object(2)\n",
            "memory usage: 2.7+ MB\n",
            "None\n"
          ]
        }
      ]
    },
    {
      "cell_type": "code",
      "source": [
        "print(f\"Dataframe Lenght: {len(AG_df)}\")"
      ],
      "metadata": {
        "colab": {
          "base_uri": "https://localhost:8080/"
        },
        "id": "sPQfSxotbeYp",
        "outputId": "1219ea5b-b7c0-4d4a-a606-6adc46488dd3"
      },
      "execution_count": null,
      "outputs": [
        {
          "output_type": "stream",
          "name": "stdout",
          "text": [
            "Dataframe Lenght: 120000\n"
          ]
        }
      ]
    },
    {
      "cell_type": "code",
      "source": [
        "#shuffling the data frame\n",
        "AG_df = AG_df.sample(frac=1).reset_index(drop=True)"
      ],
      "metadata": {
        "id": "AFf4XX0rpex6"
      },
      "execution_count": 21,
      "outputs": []
    },
    {
      "cell_type": "code",
      "source": [
        "AG_df.head()"
      ],
      "metadata": {
        "colab": {
          "base_uri": "https://localhost:8080/",
          "height": 206
        },
        "id": "4GFbTQjUbehI",
        "outputId": "c2359f1a-eda4-4a4d-eeae-589ec2037775"
      },
      "execution_count": 22,
      "outputs": [
        {
          "output_type": "execute_result",
          "data": {
            "text/plain": [
              "   category                                               text\n",
              "0         1  The Army's intelligence chief said that he has...\n",
              "1         3  US sales of previously owned houses rose in Se...\n",
              "2         4  The new transfer policy for inter-registrar do...\n",
              "3         3  Singapore #39;s unemployment rate fell in the ...\n",
              "4         4  A prominent lineup of advertising talent is wo..."
            ],
            "text/html": [
              "\n",
              "  <div id=\"df-3343c2f2-8f0e-40dd-a0ee-15ecf6bd126c\">\n",
              "    <div class=\"colab-df-container\">\n",
              "      <div>\n",
              "<style scoped>\n",
              "    .dataframe tbody tr th:only-of-type {\n",
              "        vertical-align: middle;\n",
              "    }\n",
              "\n",
              "    .dataframe tbody tr th {\n",
              "        vertical-align: top;\n",
              "    }\n",
              "\n",
              "    .dataframe thead th {\n",
              "        text-align: right;\n",
              "    }\n",
              "</style>\n",
              "<table border=\"1\" class=\"dataframe\">\n",
              "  <thead>\n",
              "    <tr style=\"text-align: right;\">\n",
              "      <th></th>\n",
              "      <th>category</th>\n",
              "      <th>text</th>\n",
              "    </tr>\n",
              "  </thead>\n",
              "  <tbody>\n",
              "    <tr>\n",
              "      <th>0</th>\n",
              "      <td>1</td>\n",
              "      <td>The Army's intelligence chief said that he has...</td>\n",
              "    </tr>\n",
              "    <tr>\n",
              "      <th>1</th>\n",
              "      <td>3</td>\n",
              "      <td>US sales of previously owned houses rose in Se...</td>\n",
              "    </tr>\n",
              "    <tr>\n",
              "      <th>2</th>\n",
              "      <td>4</td>\n",
              "      <td>The new transfer policy for inter-registrar do...</td>\n",
              "    </tr>\n",
              "    <tr>\n",
              "      <th>3</th>\n",
              "      <td>3</td>\n",
              "      <td>Singapore #39;s unemployment rate fell in the ...</td>\n",
              "    </tr>\n",
              "    <tr>\n",
              "      <th>4</th>\n",
              "      <td>4</td>\n",
              "      <td>A prominent lineup of advertising talent is wo...</td>\n",
              "    </tr>\n",
              "  </tbody>\n",
              "</table>\n",
              "</div>\n",
              "      <button class=\"colab-df-convert\" onclick=\"convertToInteractive('df-3343c2f2-8f0e-40dd-a0ee-15ecf6bd126c')\"\n",
              "              title=\"Convert this dataframe to an interactive table.\"\n",
              "              style=\"display:none;\">\n",
              "        \n",
              "  <svg xmlns=\"http://www.w3.org/2000/svg\" height=\"24px\"viewBox=\"0 0 24 24\"\n",
              "       width=\"24px\">\n",
              "    <path d=\"M0 0h24v24H0V0z\" fill=\"none\"/>\n",
              "    <path d=\"M18.56 5.44l.94 2.06.94-2.06 2.06-.94-2.06-.94-.94-2.06-.94 2.06-2.06.94zm-11 1L8.5 8.5l.94-2.06 2.06-.94-2.06-.94L8.5 2.5l-.94 2.06-2.06.94zm10 10l.94 2.06.94-2.06 2.06-.94-2.06-.94-.94-2.06-.94 2.06-2.06.94z\"/><path d=\"M17.41 7.96l-1.37-1.37c-.4-.4-.92-.59-1.43-.59-.52 0-1.04.2-1.43.59L10.3 9.45l-7.72 7.72c-.78.78-.78 2.05 0 2.83L4 21.41c.39.39.9.59 1.41.59.51 0 1.02-.2 1.41-.59l7.78-7.78 2.81-2.81c.8-.78.8-2.07 0-2.86zM5.41 20L4 18.59l7.72-7.72 1.47 1.35L5.41 20z\"/>\n",
              "  </svg>\n",
              "      </button>\n",
              "      \n",
              "  <style>\n",
              "    .colab-df-container {\n",
              "      display:flex;\n",
              "      flex-wrap:wrap;\n",
              "      gap: 12px;\n",
              "    }\n",
              "\n",
              "    .colab-df-convert {\n",
              "      background-color: #E8F0FE;\n",
              "      border: none;\n",
              "      border-radius: 50%;\n",
              "      cursor: pointer;\n",
              "      display: none;\n",
              "      fill: #1967D2;\n",
              "      height: 32px;\n",
              "      padding: 0 0 0 0;\n",
              "      width: 32px;\n",
              "    }\n",
              "\n",
              "    .colab-df-convert:hover {\n",
              "      background-color: #E2EBFA;\n",
              "      box-shadow: 0px 1px 2px rgba(60, 64, 67, 0.3), 0px 1px 3px 1px rgba(60, 64, 67, 0.15);\n",
              "      fill: #174EA6;\n",
              "    }\n",
              "\n",
              "    [theme=dark] .colab-df-convert {\n",
              "      background-color: #3B4455;\n",
              "      fill: #D2E3FC;\n",
              "    }\n",
              "\n",
              "    [theme=dark] .colab-df-convert:hover {\n",
              "      background-color: #434B5C;\n",
              "      box-shadow: 0px 1px 3px 1px rgba(0, 0, 0, 0.15);\n",
              "      filter: drop-shadow(0px 1px 2px rgba(0, 0, 0, 0.3));\n",
              "      fill: #FFFFFF;\n",
              "    }\n",
              "  </style>\n",
              "\n",
              "      <script>\n",
              "        const buttonEl =\n",
              "          document.querySelector('#df-3343c2f2-8f0e-40dd-a0ee-15ecf6bd126c button.colab-df-convert');\n",
              "        buttonEl.style.display =\n",
              "          google.colab.kernel.accessAllowed ? 'block' : 'none';\n",
              "\n",
              "        async function convertToInteractive(key) {\n",
              "          const element = document.querySelector('#df-3343c2f2-8f0e-40dd-a0ee-15ecf6bd126c');\n",
              "          const dataTable =\n",
              "            await google.colab.kernel.invokeFunction('convertToInteractive',\n",
              "                                                     [key], {});\n",
              "          if (!dataTable) return;\n",
              "\n",
              "          const docLinkHtml = 'Like what you see? Visit the ' +\n",
              "            '<a target=\"_blank\" href=https://colab.research.google.com/notebooks/data_table.ipynb>data table notebook</a>'\n",
              "            + ' to learn more about interactive tables.';\n",
              "          element.innerHTML = '';\n",
              "          dataTable['output_type'] = 'display_data';\n",
              "          await google.colab.output.renderOutput(dataTable, element);\n",
              "          const docLink = document.createElement('div');\n",
              "          docLink.innerHTML = docLinkHtml;\n",
              "          element.appendChild(docLink);\n",
              "        }\n",
              "      </script>\n",
              "    </div>\n",
              "  </div>\n",
              "  "
            ]
          },
          "metadata": {},
          "execution_count": 22
        }
      ]
    },
    {
      "cell_type": "code",
      "source": [
        "categories = list(np.unique(AG_df['category']))"
      ],
      "metadata": {
        "id": "rxp5b87WcQh3"
      },
      "execution_count": null,
      "outputs": []
    },
    {
      "cell_type": "code",
      "source": [
        "print(categories)"
      ],
      "metadata": {
        "colab": {
          "base_uri": "https://localhost:8080/"
        },
        "id": "JV8H9NNDkDcB",
        "outputId": "50530500-4ac4-4fd0-99ed-908186e8779c"
      },
      "execution_count": null,
      "outputs": [
        {
          "output_type": "stream",
          "name": "stdout",
          "text": [
            "[1, 2, 3, 4]\n"
          ]
        }
      ]
    },
    {
      "cell_type": "markdown",
      "source": [
        "# **Preprocessing**\n"
      ],
      "metadata": {
        "id": "4yua4ct6ikwW"
      }
    },
    {
      "cell_type": "code",
      "source": [
        "preprocessed_df = AG_df.copy()\n",
        "\n",
        "cv = CountVectorizer(max_features = 5000)\n",
        "corpus = []\n",
        "ps = PorterStemmer()\n",
        "for i in range(len(preprocessed_df)):\n",
        "  news = re.sub('[^a-zA-Z]', ' ', preprocessed_df.iloc[i]['text']) #Regex to replace each not alphabetical char with a space\n",
        "  news = news.lower().split()\n",
        "  news = [ps.stem(word) for word in news if not word in set(stopwords.words('english'))] #Stemming and stopword removal\n",
        "  news = ' '.join(news) #Joining the words of the array into a string \n",
        "  preprocessed_df.iloc[i]['text'] = news \n",
        "\n",
        "\n",
        "\n",
        "# The code snippet provided demonstrates the usage of the CountVectorizer class from scikit-learn (cv = CountVectorizer(max_features=5000)) along with some additional data preprocessing steps using NLTK and regular expressions.\n",
        "\n",
        "# Let's break down the code step by step:\n",
        "\n",
        "# cv = CountVectorizer(max_features=5000): An instance of CountVectorizer is created with the max_features parameter set to 5000. \n",
        "# This sets a limit on the maximum number of features (words) to consider when constructing the feature matrix.\n",
        "# ---------------------------------------------------------------------------------------------------------------------------\n",
        "# corpus = []: refers to a collection of text documents that are used for analysis or training of language models.\n",
        "# ---------------------------------------------------------------------------------------------------------------------------\n",
        "# ps = PorterStemmer(): An instance of PorterStemmer from NLTK is created.\n",
        "# The PorterStemmer is used for stemming words, reducing them to their base or root form.\n",
        "# ---------------------------------------------------------------------------------------------------------------\n",
        "# A loop is set up to iterate over each row of the preprocessed_df DataFrame\n",
        "# (assuming preprocessed_df is a DataFrame containing preprocessed text data).\n",
        "# ---------------------------------------------------------------------------------------------------------------------------\n",
        "# news = re.sub('[^a-zA-Z]', ' ', preprocessed_df.iloc[i]['text']):\n",
        "# The re.sub() function from the re module is used to replace any non-alphabetical characters in the text with spaces.\n",
        "# This regex pattern replaces all characters except alphabets [a-zA-Z] with a space: such as digits, punctuation marks, and special characters\n",
        "# ---------------------------------------------------------------------------------------------------------------------------\n",
        "# news = news.lower().split(): The text is converted to lowercase and then split into a list of words.\n",
        "# ---------------------------------------------------------------------------------------------------------------------------\n",
        "# news = [ps.stem(word) for word in news if not word in set(stopwords.words('english'))]: \n",
        "# The list comprehension iterates over each word in the news list and applies stemming using the PorterStemmer. \n",
        "# Additionally, it checks if the word is not present in the set of English stopwords obtained from NLTK (stopwords.words('english')). \n",
        "# This step removes stopwords from the text.\n",
        "# ---------------------------------------------------------------------------------------------------------------------------\n",
        "# news = ' '.join(news): The list of stemmed and filtered words is joined back into a single string, separated by spaces.\n",
        "# ---------------------------------------------------------------------------------------------------------------------------\n",
        "# preprocessed_df.iloc[i]['text'] = news: The preprocessed text (news) is assigned back to the 'text' column of the preprocessed_df DataFrame for the current row.\n",
        "# ---------------------------------------------------------------------------------------------------------------------------\n",
        "# The code processes the text data in the preprocessed_df DataFrame by applying the steps of replacing non-alphabetical characters, converting to lowercase, \n",
        "# splitting into words, stemming, removing stopwords, and finally joining the words back into a string. \n",
        "# This prepares the text data for further analysis or modeling using the CountVectorizer with a limit of 5000 features.\n"
      ],
      "metadata": {
        "colab": {
          "base_uri": "https://localhost:8080/"
        },
        "id": "izyPbR7o3NKn",
        "outputId": "3cb1b8ea-ab9d-40c2-d6ab-44f22a721956"
      },
      "execution_count": 25,
      "outputs": [
        {
          "output_type": "stream",
          "name": "stderr",
          "text": [
            "<ipython-input-25-81456dac4fdf>:11: SettingWithCopyWarning: \n",
            "A value is trying to be set on a copy of a slice from a DataFrame\n",
            "\n",
            "See the caveats in the documentation: https://pandas.pydata.org/pandas-docs/stable/user_guide/indexing.html#returning-a-view-versus-a-copy\n",
            "  preprocessed_df.iloc[i]['text'] = news\n"
          ]
        }
      ]
    },
    {
      "cell_type": "code",
      "source": [
        "#data after preprocessed\n",
        "preprocessed_df['text'].head()"
      ],
      "metadata": {
        "colab": {
          "base_uri": "https://localhost:8080/"
        },
        "id": "-i2ZkfHzsrFw",
        "outputId": "5ad51958-e43c-41a5-e34e-227d41c9ee59"
      },
      "execution_count": null,
      "outputs": [
        {
          "output_type": "execute_result",
          "data": {
            "text/plain": [
              "0    Reuters - Short-sellers, Wall Street's dwindli...\n",
              "1    Reuters - Private investment firm Carlyle Grou...\n",
              "2    Reuters - Soaring crude prices plus worries\\ab...\n",
              "3    Reuters - Authorities have halted oil export\\f...\n",
              "4    AFP - Tearaway world oil prices, toppling reco...\n",
              "Name: text, dtype: object"
            ]
          },
          "metadata": {},
          "execution_count": 31
        }
      ]
    },
    {
      "cell_type": "code",
      "source": [
        "# Creating a bag of words\n",
        "preprocessed_df['text'] = list(cv.fit_transform(list(preprocessed_df['text'])).toarray())\n",
        "\n",
        "''' \n",
        "cv.fit_transform(list(preprocessed_df['Text'])): The fit_transform() method of the CountVectorizer object (cv) is applied to the 'Text' column of the preprocessed_df DataFrame. \n",
        "This method fits the vectorizer to the text data and transforms the text documents into a matrix of token counts.\n",
        "\n",
        "toarray(): The toarray() method is called on the transformed matrix to convert it from a sparse matrix representation to a dense array.\n",
        "\n",
        "list(cv.fit_transform(list(preprocessed_df['Text'])).toarray()): The dense array representation of the transformed matrix is converted to a list. \n",
        "This creates a list of arrays, where each array corresponds to a row in the transformed matrix.\n",
        "\n",
        "preprocessed_df['Text'] = ...: The 'Text' column in the preprocessed_df DataFrame is assigned the list of arrays obtained from the previous step. \n",
        "This replaces the original 'Text' column with the bag of words representation.\n",
        "\n",
        "In summary, the code applies the CountVectorizer object (cv) to the 'Text' column of the preprocessed_df DataFrame, converting the text data into a bag of words representation. \n",
        "The resulting bag of words representation is then assigned back to the 'Text' column in the DataFrame.\n",
        "\n",
        "Note that the bag of words representation will contain the count of each word in the text documents, \n",
        "where each column corresponds to a specific word and each row corresponds to a document in the DataFrame.\n",
        "\n",
        "'''"
      ],
      "metadata": {
        "id": "dliQkkGBH6yN",
        "colab": {
          "base_uri": "https://localhost:8080/",
          "height": 140
        },
        "outputId": "62d68f5f-5572-4cd8-85a6-b09d5d40820b"
      },
      "execution_count": 26,
      "outputs": [
        {
          "output_type": "execute_result",
          "data": {
            "text/plain": [
              "\" \\ncv.fit_transform(list(preprocessed_df['Text'])): The fit_transform() method of the CountVectorizer object (cv) is applied to the 'Text' column of the preprocessed_df DataFrame. \\nThis method fits the vectorizer to the text data and transforms the text documents into a matrix of token counts.\\n\\ntoarray(): The toarray() method is called on the transformed matrix to convert it from a sparse matrix representation to a dense array.\\n\\nlist(cv.fit_transform(list(preprocessed_df['Text'])).toarray()): The dense array representation of the transformed matrix is converted to a list. \\nThis creates a list of arrays, where each array corresponds to a row in the transformed matrix.\\n\\npreprocessed_df['Text'] = ...: The 'Text' column in the preprocessed_df DataFrame is assigned the list of arrays obtained from the previous step. \\nThis replaces the original 'Text' column with the bag of words representation.\\n\\nIn summary, the code applies the CountVectorizer object (cv) to the 'Text' column of the preprocessed_df DataFrame, converting the text data into a bag of words representation. \\nThe resulting bag of words representation is then assigned back to the 'Text' column in the DataFrame.\\n\\nNote that the bag of words representation will contain the count of each word in the text documents, \\nwhere each column corresponds to a specific word and each row corresponds to a document in the DataFrame.\\n\\n\""
            ],
            "application/vnd.google.colaboratory.intrinsic+json": {
              "type": "string"
            }
          },
          "metadata": {},
          "execution_count": 26
        }
      ]
    },
    {
      "cell_type": "code",
      "source": [
        "preprocessed_df.head()"
      ],
      "metadata": {
        "colab": {
          "base_uri": "https://localhost:8080/",
          "height": 206
        },
        "id": "0AffRYrXf2oQ",
        "outputId": "c8fc69ee-17be-4dab-ebab-fff8cbe79de4"
      },
      "execution_count": 27,
      "outputs": [
        {
          "output_type": "execute_result",
          "data": {
            "text/plain": [
              "   category                                               text\n",
              "0         1  [0, 0, 0, 0, 0, 0, 0, 0, 0, 0, 0, 0, 0, 0, 0, ...\n",
              "1         3  [0, 0, 0, 0, 0, 0, 0, 0, 0, 0, 0, 0, 0, 0, 0, ...\n",
              "2         4  [0, 0, 0, 0, 0, 0, 0, 0, 0, 0, 0, 0, 0, 0, 0, ...\n",
              "3         3  [0, 0, 0, 0, 0, 0, 0, 0, 0, 0, 0, 0, 0, 0, 0, ...\n",
              "4         4  [0, 0, 0, 0, 0, 0, 0, 0, 0, 0, 0, 0, 0, 0, 0, ..."
            ],
            "text/html": [
              "\n",
              "  <div id=\"df-bf3ca748-e882-47f1-a882-7272429ebb4e\">\n",
              "    <div class=\"colab-df-container\">\n",
              "      <div>\n",
              "<style scoped>\n",
              "    .dataframe tbody tr th:only-of-type {\n",
              "        vertical-align: middle;\n",
              "    }\n",
              "\n",
              "    .dataframe tbody tr th {\n",
              "        vertical-align: top;\n",
              "    }\n",
              "\n",
              "    .dataframe thead th {\n",
              "        text-align: right;\n",
              "    }\n",
              "</style>\n",
              "<table border=\"1\" class=\"dataframe\">\n",
              "  <thead>\n",
              "    <tr style=\"text-align: right;\">\n",
              "      <th></th>\n",
              "      <th>category</th>\n",
              "      <th>text</th>\n",
              "    </tr>\n",
              "  </thead>\n",
              "  <tbody>\n",
              "    <tr>\n",
              "      <th>0</th>\n",
              "      <td>1</td>\n",
              "      <td>[0, 0, 0, 0, 0, 0, 0, 0, 0, 0, 0, 0, 0, 0, 0, ...</td>\n",
              "    </tr>\n",
              "    <tr>\n",
              "      <th>1</th>\n",
              "      <td>3</td>\n",
              "      <td>[0, 0, 0, 0, 0, 0, 0, 0, 0, 0, 0, 0, 0, 0, 0, ...</td>\n",
              "    </tr>\n",
              "    <tr>\n",
              "      <th>2</th>\n",
              "      <td>4</td>\n",
              "      <td>[0, 0, 0, 0, 0, 0, 0, 0, 0, 0, 0, 0, 0, 0, 0, ...</td>\n",
              "    </tr>\n",
              "    <tr>\n",
              "      <th>3</th>\n",
              "      <td>3</td>\n",
              "      <td>[0, 0, 0, 0, 0, 0, 0, 0, 0, 0, 0, 0, 0, 0, 0, ...</td>\n",
              "    </tr>\n",
              "    <tr>\n",
              "      <th>4</th>\n",
              "      <td>4</td>\n",
              "      <td>[0, 0, 0, 0, 0, 0, 0, 0, 0, 0, 0, 0, 0, 0, 0, ...</td>\n",
              "    </tr>\n",
              "  </tbody>\n",
              "</table>\n",
              "</div>\n",
              "      <button class=\"colab-df-convert\" onclick=\"convertToInteractive('df-bf3ca748-e882-47f1-a882-7272429ebb4e')\"\n",
              "              title=\"Convert this dataframe to an interactive table.\"\n",
              "              style=\"display:none;\">\n",
              "        \n",
              "  <svg xmlns=\"http://www.w3.org/2000/svg\" height=\"24px\"viewBox=\"0 0 24 24\"\n",
              "       width=\"24px\">\n",
              "    <path d=\"M0 0h24v24H0V0z\" fill=\"none\"/>\n",
              "    <path d=\"M18.56 5.44l.94 2.06.94-2.06 2.06-.94-2.06-.94-.94-2.06-.94 2.06-2.06.94zm-11 1L8.5 8.5l.94-2.06 2.06-.94-2.06-.94L8.5 2.5l-.94 2.06-2.06.94zm10 10l.94 2.06.94-2.06 2.06-.94-2.06-.94-.94-2.06-.94 2.06-2.06.94z\"/><path d=\"M17.41 7.96l-1.37-1.37c-.4-.4-.92-.59-1.43-.59-.52 0-1.04.2-1.43.59L10.3 9.45l-7.72 7.72c-.78.78-.78 2.05 0 2.83L4 21.41c.39.39.9.59 1.41.59.51 0 1.02-.2 1.41-.59l7.78-7.78 2.81-2.81c.8-.78.8-2.07 0-2.86zM5.41 20L4 18.59l7.72-7.72 1.47 1.35L5.41 20z\"/>\n",
              "  </svg>\n",
              "      </button>\n",
              "      \n",
              "  <style>\n",
              "    .colab-df-container {\n",
              "      display:flex;\n",
              "      flex-wrap:wrap;\n",
              "      gap: 12px;\n",
              "    }\n",
              "\n",
              "    .colab-df-convert {\n",
              "      background-color: #E8F0FE;\n",
              "      border: none;\n",
              "      border-radius: 50%;\n",
              "      cursor: pointer;\n",
              "      display: none;\n",
              "      fill: #1967D2;\n",
              "      height: 32px;\n",
              "      padding: 0 0 0 0;\n",
              "      width: 32px;\n",
              "    }\n",
              "\n",
              "    .colab-df-convert:hover {\n",
              "      background-color: #E2EBFA;\n",
              "      box-shadow: 0px 1px 2px rgba(60, 64, 67, 0.3), 0px 1px 3px 1px rgba(60, 64, 67, 0.15);\n",
              "      fill: #174EA6;\n",
              "    }\n",
              "\n",
              "    [theme=dark] .colab-df-convert {\n",
              "      background-color: #3B4455;\n",
              "      fill: #D2E3FC;\n",
              "    }\n",
              "\n",
              "    [theme=dark] .colab-df-convert:hover {\n",
              "      background-color: #434B5C;\n",
              "      box-shadow: 0px 1px 3px 1px rgba(0, 0, 0, 0.15);\n",
              "      filter: drop-shadow(0px 1px 2px rgba(0, 0, 0, 0.3));\n",
              "      fill: #FFFFFF;\n",
              "    }\n",
              "  </style>\n",
              "\n",
              "      <script>\n",
              "        const buttonEl =\n",
              "          document.querySelector('#df-bf3ca748-e882-47f1-a882-7272429ebb4e button.colab-df-convert');\n",
              "        buttonEl.style.display =\n",
              "          google.colab.kernel.accessAllowed ? 'block' : 'none';\n",
              "\n",
              "        async function convertToInteractive(key) {\n",
              "          const element = document.querySelector('#df-bf3ca748-e882-47f1-a882-7272429ebb4e');\n",
              "          const dataTable =\n",
              "            await google.colab.kernel.invokeFunction('convertToInteractive',\n",
              "                                                     [key], {});\n",
              "          if (!dataTable) return;\n",
              "\n",
              "          const docLinkHtml = 'Like what you see? Visit the ' +\n",
              "            '<a target=\"_blank\" href=https://colab.research.google.com/notebooks/data_table.ipynb>data table notebook</a>'\n",
              "            + ' to learn more about interactive tables.';\n",
              "          element.innerHTML = '';\n",
              "          dataTable['output_type'] = 'display_data';\n",
              "          await google.colab.output.renderOutput(dataTable, element);\n",
              "          const docLink = document.createElement('div');\n",
              "          docLink.innerHTML = docLinkHtml;\n",
              "          element.appendChild(docLink);\n",
              "        }\n",
              "      </script>\n",
              "    </div>\n",
              "  </div>\n",
              "  "
            ]
          },
          "metadata": {},
          "execution_count": 27
        }
      ]
    },
    {
      "cell_type": "code",
      "source": [
        "# Label the data\n",
        "categories = ['World','Sports','Business','Sci/Tech']\n",
        "preprocessed_df['category'] = [ category-1 for category in preprocessed_df['category'] ]\n",
        "\n",
        "'''\n",
        "\n",
        "categories = list(np.unique(preprocessed_df['category'])): This line retrieves the unique categories present in the 'category' column of the DataFrame and stores them as a list in the categories variable. \n",
        "The np.unique() function from the NumPy library is used to obtain the unique values.\n",
        "\n",
        "preprocessed_df['category'] = [categories.index(category) for category in preprocessed_df['category']]: This line assigns numerical labels to the categories in the 'category' column of the DataFrame. \n",
        "It uses a list comprehension to iterate over each category in the 'category' column.\n",
        "\n",
        "For each category, categories.index(category) is used to find the index of the category in the categories list. \n",
        "This index represents the numerical label for that category.\n",
        "\n",
        "The resulting numerical labels are then assigned back to the 'category' column of the DataFrame, replacing the original categorical values.\n",
        "\n",
        "'''"
      ],
      "metadata": {
        "colab": {
          "base_uri": "https://localhost:8080/",
          "height": 140
        },
        "id": "p3wOZ3s8866_",
        "outputId": "f6c1f330-1b94-4a64-e30b-bc109327cab4"
      },
      "execution_count": 28,
      "outputs": [
        {
          "output_type": "execute_result",
          "data": {
            "text/plain": [
              "\"\\n\\ncategories = list(np.unique(preprocessed_df['category'])): This line retrieves the unique categories present in the 'category' column of the DataFrame and stores them as a list in the categories variable. \\nThe np.unique() function from the NumPy library is used to obtain the unique values.\\n\\npreprocessed_df['category'] = [categories.index(category) for category in preprocessed_df['category']]: This line assigns numerical labels to the categories in the 'category' column of the DataFrame. \\nIt uses a list comprehension to iterate over each category in the 'category' column.\\n\\nFor each category, categories.index(category) is used to find the index of the category in the categories list. \\nThis index represents the numerical label for that category.\\n\\nThe resulting numerical labels are then assigned back to the 'category' column of the DataFrame, replacing the original categorical values.\\n\\n\""
            ],
            "application/vnd.google.colaboratory.intrinsic+json": {
              "type": "string"
            }
          },
          "metadata": {},
          "execution_count": 28
        }
      ]
    },
    {
      "cell_type": "markdown",
      "source": [
        "# **Train and test splits**"
      ],
      "metadata": {
        "id": "0R6MIwjimw91"
      }
    },
    {
      "cell_type": "code",
      "source": [
        "# Train and test splits\n",
        "x_train, x_test, y_train, y_test = train_test_split(preprocessed_df['text'], preprocessed_df['category'], test_size=0.1, random_state=42)"
      ],
      "metadata": {
        "id": "6pilE_uEm0rY"
      },
      "execution_count": 43,
      "outputs": []
    },
    {
      "cell_type": "markdown",
      "source": [
        "# **Training the model**\n"
      ],
      "metadata": {
        "id": "lERkMdXOiyrT"
      }
    },
    {
      "cell_type": "code",
      "execution_count": 44,
      "metadata": {
        "colab": {
          "base_uri": "https://localhost:8080/",
          "height": 74
        },
        "id": "zGVpJqnVQabD",
        "outputId": "f23cb891-457a-4d8e-853f-b2dd50f90472"
      },
      "outputs": [
        {
          "output_type": "execute_result",
          "data": {
            "text/plain": [
              "LogisticRegression(max_iter=2000)"
            ],
            "text/html": [
              "<style>#sk-container-id-1 {color: black;background-color: white;}#sk-container-id-1 pre{padding: 0;}#sk-container-id-1 div.sk-toggleable {background-color: white;}#sk-container-id-1 label.sk-toggleable__label {cursor: pointer;display: block;width: 100%;margin-bottom: 0;padding: 0.3em;box-sizing: border-box;text-align: center;}#sk-container-id-1 label.sk-toggleable__label-arrow:before {content: \"▸\";float: left;margin-right: 0.25em;color: #696969;}#sk-container-id-1 label.sk-toggleable__label-arrow:hover:before {color: black;}#sk-container-id-1 div.sk-estimator:hover label.sk-toggleable__label-arrow:before {color: black;}#sk-container-id-1 div.sk-toggleable__content {max-height: 0;max-width: 0;overflow: hidden;text-align: left;background-color: #f0f8ff;}#sk-container-id-1 div.sk-toggleable__content pre {margin: 0.2em;color: black;border-radius: 0.25em;background-color: #f0f8ff;}#sk-container-id-1 input.sk-toggleable__control:checked~div.sk-toggleable__content {max-height: 200px;max-width: 100%;overflow: auto;}#sk-container-id-1 input.sk-toggleable__control:checked~label.sk-toggleable__label-arrow:before {content: \"▾\";}#sk-container-id-1 div.sk-estimator input.sk-toggleable__control:checked~label.sk-toggleable__label {background-color: #d4ebff;}#sk-container-id-1 div.sk-label input.sk-toggleable__control:checked~label.sk-toggleable__label {background-color: #d4ebff;}#sk-container-id-1 input.sk-hidden--visually {border: 0;clip: rect(1px 1px 1px 1px);clip: rect(1px, 1px, 1px, 1px);height: 1px;margin: -1px;overflow: hidden;padding: 0;position: absolute;width: 1px;}#sk-container-id-1 div.sk-estimator {font-family: monospace;background-color: #f0f8ff;border: 1px dotted black;border-radius: 0.25em;box-sizing: border-box;margin-bottom: 0.5em;}#sk-container-id-1 div.sk-estimator:hover {background-color: #d4ebff;}#sk-container-id-1 div.sk-parallel-item::after {content: \"\";width: 100%;border-bottom: 1px solid gray;flex-grow: 1;}#sk-container-id-1 div.sk-label:hover label.sk-toggleable__label {background-color: #d4ebff;}#sk-container-id-1 div.sk-serial::before {content: \"\";position: absolute;border-left: 1px solid gray;box-sizing: border-box;top: 0;bottom: 0;left: 50%;z-index: 0;}#sk-container-id-1 div.sk-serial {display: flex;flex-direction: column;align-items: center;background-color: white;padding-right: 0.2em;padding-left: 0.2em;position: relative;}#sk-container-id-1 div.sk-item {position: relative;z-index: 1;}#sk-container-id-1 div.sk-parallel {display: flex;align-items: stretch;justify-content: center;background-color: white;position: relative;}#sk-container-id-1 div.sk-item::before, #sk-container-id-1 div.sk-parallel-item::before {content: \"\";position: absolute;border-left: 1px solid gray;box-sizing: border-box;top: 0;bottom: 0;left: 50%;z-index: -1;}#sk-container-id-1 div.sk-parallel-item {display: flex;flex-direction: column;z-index: 1;position: relative;background-color: white;}#sk-container-id-1 div.sk-parallel-item:first-child::after {align-self: flex-end;width: 50%;}#sk-container-id-1 div.sk-parallel-item:last-child::after {align-self: flex-start;width: 50%;}#sk-container-id-1 div.sk-parallel-item:only-child::after {width: 0;}#sk-container-id-1 div.sk-dashed-wrapped {border: 1px dashed gray;margin: 0 0.4em 0.5em 0.4em;box-sizing: border-box;padding-bottom: 0.4em;background-color: white;}#sk-container-id-1 div.sk-label label {font-family: monospace;font-weight: bold;display: inline-block;line-height: 1.2em;}#sk-container-id-1 div.sk-label-container {text-align: center;}#sk-container-id-1 div.sk-container {/* jupyter's `normalize.less` sets `[hidden] { display: none; }` but bootstrap.min.css set `[hidden] { display: none !important; }` so we also need the `!important` here to be able to override the default hidden behavior on the sphinx rendered scikit-learn.org. See: https://github.com/scikit-learn/scikit-learn/issues/21755 */display: inline-block !important;position: relative;}#sk-container-id-1 div.sk-text-repr-fallback {display: none;}</style><div id=\"sk-container-id-1\" class=\"sk-top-container\"><div class=\"sk-text-repr-fallback\"><pre>LogisticRegression(max_iter=2000)</pre><b>In a Jupyter environment, please rerun this cell to show the HTML representation or trust the notebook. <br />On GitHub, the HTML representation is unable to render, please try loading this page with nbviewer.org.</b></div><div class=\"sk-container\" hidden><div class=\"sk-item\"><div class=\"sk-estimator sk-toggleable\"><input class=\"sk-toggleable__control sk-hidden--visually\" id=\"sk-estimator-id-1\" type=\"checkbox\" checked><label for=\"sk-estimator-id-1\" class=\"sk-toggleable__label sk-toggleable__label-arrow\">LogisticRegression</label><div class=\"sk-toggleable__content\"><pre>LogisticRegression(max_iter=2000)</pre></div></div></div></div></div>"
            ]
          },
          "metadata": {},
          "execution_count": 44
        }
      ],
      "source": [
        "model = LogisticRegression(max_iter=2000)\n",
        "model.fit(list(x_train), y_train)"
      ]
    },
    {
      "cell_type": "markdown",
      "source": [
        "# **Evaluation**"
      ],
      "metadata": {
        "id": "eBSV3KLfyEmP"
      }
    },
    {
      "cell_type": "code",
      "source": [
        "num = 1000\n",
        "y_preds = model.predict(list(x_test)[:num])\n",
        "Y_test = y_test[:num]\n",
        "\n",
        "accuracy = accuracy_score(Y_test, y_preds)\n",
        "precision = precision_score(Y_test, y_preds, average='weighted')\n",
        "recall = recall_score(Y_test, y_preds, average='weighted')\n",
        "f1 = f1_score(Y_test, y_preds, average='weighted')\n",
        "print('Accuracy: {:.2f}%'.format(accuracy*100))\n",
        "print('Precision: {:.2f}%'.format(precision*100))\n",
        "print('Recall: {:.2f}%'.format(recall*100))\n",
        "print('F1-score: {:.2f}%'.format(f1*100))"
      ],
      "metadata": {
        "id": "UccBpz9jyHxX",
        "colab": {
          "base_uri": "https://localhost:8080/"
        },
        "outputId": "5adf3a98-21e4-45fa-f0a6-a3fce43c10cd"
      },
      "execution_count": 45,
      "outputs": [
        {
          "output_type": "stream",
          "name": "stdout",
          "text": [
            "Accuracy: 89.60%\n",
            "Precision: 89.63%\n",
            "Recall: 89.60%\n",
            "F1-score: 89.60%\n"
          ]
        }
      ]
    },
    {
      "cell_type": "markdown",
      "source": [
        "# **Making Prediction**"
      ],
      "metadata": {
        "id": "hxzNRJ8yi8cC"
      }
    },
    {
      "cell_type": "code",
      "source": [
        "test_news = \"\"\" \n",
        "connors boost for british tennis former world number one jimmy connors is planning a long-term relationship with the lawn tennis association to help unearth the next tim henman.  the american spent three days at the lta s annual elite performance winter camp in la manga earlier this week.  britain has the right attitude   said connors.  the more involved i can be with the lta  the better.  a short-term arrangement is just confusing. the kids will ask:  what am i doing there    lta chief executive  john crowther  added:  the relationship that jimmy s already started to develop with the coaches and the players has said to us that we d like some more of it.  we want to use jimmy for a number of weeks a year and we hope this is the beginning of a good long-term relationship.   the camp played host to more than 30 leading senior and junior players  including greg rusedski  arvind parmar and anne keothavong.  la manga is an amazing site to take a bunch of kids who want to be the best   said connors  speaking at queen s club in london.  what impressed me most was not only the coaches but the way the kids went about their workouts and the feeling they put into every practice they had.  it was interesting to me to see kids of 15  16  17  with that desire and passion  and that can only be brought about by the coaches surrounding them.  instilling the importance of work and practice is something you can t buy.  they know what s been given to them and all they have to do is give back the effort  and every minute of practice they were doing that.   speaking from la manga  lta performance director david felgate told bbc sport:  jimmy was fantastic with the players and the coaches  and very humble considering what he s achieved.  he worked through the coaches and hopefully it will grow and he ll get to have more of an individual relationship with some of the players and get to know them.  he made it clear from the word go he didn t want it to be short-term. this is a 52-week-a-year job for me  it s my life and my passion and it s the same with the coaches.  he respects that but he wants to be involved and have real input. and why would he stake his reputation on something that s not going to be successful   connors has also agreed to commentate for the bbc at next year s wimbledon championships. he will work during the second week of the tournament.\n",
        "\"\"\"\n",
        "\n",
        "test_news = re.sub('[^a-zA-Z]', ' ', test_news)\n",
        "test_news = test_news.lower()\n",
        "test_news = test_news.split()\n",
        "test_news = [ps.stem(word) for word in test_news if not word in set(stopwords.words('english'))]\n",
        "test_news = ' '.join(test_news)\n",
        "\n",
        "test_X = cv.transform([test_news]).toarray()\n",
        "\n",
        "preds = model.predict(test_X)\n",
        "print(preds)\n",
        "result = categories[preds[0]]\n",
        "print(\"Predicted categories: \", result)"
      ],
      "metadata": {
        "colab": {
          "base_uri": "https://localhost:8080/"
        },
        "id": "eMzY7wPi3l1P",
        "outputId": "3a90d08f-fb02-4bb1-d7e8-ebc0ac14e859"
      },
      "execution_count": 46,
      "outputs": [
        {
          "output_type": "stream",
          "name": "stdout",
          "text": [
            "[1]\n",
            "Predicted categories:  Sports\n"
          ]
        }
      ]
    },
    {
      "cell_type": "markdown",
      "source": [
        "# **Exporting and loading the trained model and vectorizor**"
      ],
      "metadata": {
        "id": "x2Ee1F5NGJIa"
      }
    },
    {
      "cell_type": "code",
      "source": [
        "# Export the trained model and CountVectorizer instance\n",
        "with open('model.pkl', 'wb') as f:\n",
        "    pickle.dump(model, f)\n",
        "with open('cv.pkl', 'wb') as f:\n",
        "    pickle.dump(cv, f)\n",
        "\n",
        "# Load the saved model and CountVectorizer instance, we will use this at the python app \n",
        "# with open('model.pkl', 'rb') as f:\n",
        "#     model = pickle.load(f)\n",
        "# with open('cv.pkl', 'rb') as f:\n",
        "#     cv = pickle.load(f)"
      ],
      "metadata": {
        "id": "IlC3dbvVGIxT"
      },
      "execution_count": 47,
      "outputs": []
    },
    {
      "cell_type": "markdown",
      "source": [
        "# **Text Validation Checking**"
      ],
      "metadata": {
        "id": "SGIgQEA1jZTc"
      }
    },
    {
      "cell_type": "code",
      "source": [
        "def is_valid_text(text):\n",
        "    english_chars = set(string.printable) \n",
        "    is_english = all(char in english_chars for char in text)\n",
        "    return is_english"
      ],
      "metadata": {
        "id": "fchcpgRSX-V6"
      },
      "execution_count": null,
      "outputs": []
    },
    {
      "cell_type": "code",
      "source": [
        "import string\n",
        "string.printable"
      ],
      "metadata": {
        "colab": {
          "base_uri": "https://localhost:8080/",
          "height": 36
        },
        "id": "7jjN4_Lv9ike",
        "outputId": "ab9a6471-41fb-40fc-aac6-6c40b4fb1a11"
      },
      "execution_count": null,
      "outputs": [
        {
          "output_type": "execute_result",
          "data": {
            "text/plain": [
              "'0123456789abcdefghijklmnopqrstuvwxyzABCDEFGHIJKLMNOPQRSTUVWXYZ!\"#$%&\\'()*+,-./:;<=>?@[\\\\]^_`{|}~ \\t\\n\\r\\x0b\\x0c'"
            ],
            "application/vnd.google.colaboratory.intrinsic+json": {
              "type": "string"
            }
          },
          "metadata": {},
          "execution_count": 8
        }
      ]
    },
    {
      "cell_type": "code",
      "source": [
        "from langdetect import detect\n",
        "\n",
        "def is_english(sentence):\n",
        "    try:\n",
        "        lang = detect(sentence)\n",
        "        print(len(lang))\n",
        "        return lang == 'en'\n",
        "    except:\n",
        "        return False\n"
      ],
      "metadata": {
        "id": "NXoPwSss9jt1"
      },
      "execution_count": null,
      "outputs": []
    },
    {
      "cell_type": "code",
      "source": [
        "is_english(\"i love playing football\")"
      ],
      "metadata": {
        "colab": {
          "base_uri": "https://localhost:8080/"
        },
        "id": "abF0Ch-1FhTj",
        "outputId": "b0931517-f335-4523-c267-e0ad9a97b15b"
      },
      "execution_count": null,
      "outputs": [
        {
          "output_type": "stream",
          "name": "stdout",
          "text": [
            "2\n"
          ]
        },
        {
          "output_type": "execute_result",
          "data": {
            "text/plain": [
              "True"
            ]
          },
          "metadata": {},
          "execution_count": 22
        }
      ]
    },
    {
      "cell_type": "code",
      "source": [],
      "metadata": {
        "id": "E5sq5ji1Gv0s"
      },
      "execution_count": null,
      "outputs": []
    }
  ]
}